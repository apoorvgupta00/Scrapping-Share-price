{
  "nbformat": 4,
  "nbformat_minor": 0,
  "metadata": {
    "colab": {
      "name": "Untitled16.ipynb",
      "provenance": [],
      "collapsed_sections": []
    },
    "kernelspec": {
      "name": "python3",
      "display_name": "Python 3"
    }
  },
  "cells": [
    {
      "cell_type": "code",
      "metadata": {
        "id": "vRHylS43NUZz",
        "colab_type": "code",
        "colab": {
          "base_uri": "https://localhost:8080/",
          "height": 34
        },
        "outputId": "1bdaef9d-856a-4cdc-fa15-5560a77cac7b"
      },
      "source": [
        "import requests\n",
        "!pip install beautifulsoup4\n",
        "from bs4 import BeautifulSoup\n",
        "import csv\n",
        "from datetime import datetime\n",
        "import time"
      ],
      "execution_count": null,
      "outputs": [
        {
          "output_type": "stream",
          "text": [
            "Requirement already satisfied: beautifulsoup4 in /usr/local/lib/python3.6/dist-packages (4.6.3)\n"
          ],
          "name": "stdout"
        }
      ]
    },
    {
      "cell_type": "code",
      "metadata": {
        "id": "IU11vq1DcEd_",
        "colab_type": "code",
        "colab": {}
      },
      "source": [
        "def fetchprice():\n",
        "  urlToFetch = 'https://finance.yahoo.com/quote/MSFT/' #You just need to change the name of the stock \n",
        "  response = requests.get(urlToFetch)\n",
        "  soup = BeautifulSoup(response.text, 'lxml')\n",
        "  priceToFetch = soup.find_all('div',{'class':'My(6px) Pos(r) smartphone_Mt(6px)'})[0].find('span').text\n",
        "  print(priceToFetch)\n",
        "  with open('price.csv', mode='a') as cf:\n",
        "    fieldnames = ['Time', 'Price']\n",
        "    writer = csv.DictWriter(csv_file, fieldnames=fieldnames)\n",
        "    lTime = time.localtime()\n",
        "    now = time.strftime(\"%H:%M:%S\", lTime)\n",
        "    writer.writerow({'Time': now, 'Price': priceToFetch})\n",
        "    cf.close()"
      ],
      "execution_count": null,
      "outputs": []
    },
    {
      "cell_type": "code",
      "metadata": {
        "id": "3yvea9KKeqVP",
        "colab_type": "code",
        "colab": {
          "base_uri": "https://localhost:8080/",
          "height": 335
        },
        "outputId": "7a8eb1dd-7a7e-40c9-b3f3-3e95beee0178"
      },
      "source": [
        "while True:\n",
        "  fetchprice()\n",
        "  time.sleep(5)"
      ],
      "execution_count": null,
      "outputs": [
        {
          "output_type": "stream",
          "text": [
            "196.09\n",
            "196.20\n",
            "196.22\n",
            "196.15\n",
            "196.17\n",
            "196.17\n",
            "196.16\n",
            "196.14\n"
          ],
          "name": "stdout"
        },
        {
          "output_type": "error",
          "ename": "KeyboardInterrupt",
          "evalue": "ignored",
          "traceback": [
            "\u001b[0;31m---------------------------------------------------------------------------\u001b[0m",
            "\u001b[0;31mKeyboardInterrupt\u001b[0m                         Traceback (most recent call last)",
            "\u001b[0;32m<ipython-input-18-6897b9a7999e>\u001b[0m in \u001b[0;36m<module>\u001b[0;34m()\u001b[0m\n\u001b[1;32m      1\u001b[0m \u001b[0;32mwhile\u001b[0m \u001b[0;32mTrue\u001b[0m\u001b[0;34m:\u001b[0m\u001b[0;34m\u001b[0m\u001b[0;34m\u001b[0m\u001b[0m\n\u001b[1;32m      2\u001b[0m   \u001b[0mfetchprice\u001b[0m\u001b[0;34m(\u001b[0m\u001b[0;34m)\u001b[0m\u001b[0;34m\u001b[0m\u001b[0;34m\u001b[0m\u001b[0m\n\u001b[0;32m----> 3\u001b[0;31m   \u001b[0mtime\u001b[0m\u001b[0;34m.\u001b[0m\u001b[0msleep\u001b[0m\u001b[0;34m(\u001b[0m\u001b[0;36m5\u001b[0m\u001b[0;34m)\u001b[0m\u001b[0;34m\u001b[0m\u001b[0;34m\u001b[0m\u001b[0m\n\u001b[0m",
            "\u001b[0;31mKeyboardInterrupt\u001b[0m: "
          ]
        }
      ]
    }
  ]
}